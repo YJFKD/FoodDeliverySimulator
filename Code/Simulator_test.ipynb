{
 "cells": [
  {
   "cell_type": "code",
   "execution_count": 27,
   "id": "87df9820",
   "metadata": {},
   "outputs": [
    {
     "data": {
      "text/plain": [
       "[[1, 2, 3], [1, 3, 2], [2, 1, 3], [2, 3, 1], [3, 1, 2], [3, 2, 1]]"
      ]
     },
     "execution_count": 27,
     "metadata": {},
     "output_type": "execute_result"
    }
   ],
   "source": [
    "# backtrack\n",
    "nums = [1, 2, 3]\n",
    "\n",
    "def permute(nums):\n",
    "    ans = []\n",
    "    track = []\n",
    "\n",
    "    def backtrack(nums, track):\n",
    "        if len(track) == len(nums):\n",
    "            ans.append(track[:])\n",
    "            return \n",
    "        for n in nums:\n",
    "            if n in track:\n",
    "                continue\n",
    "            track.append(n)\n",
    "            backtrack(nums, track)\n",
    "            track.pop()\n",
    "    \n",
    "    backtrack(nums, track)\n",
    "    return ans\n",
    "    \n",
    "permute(nums)"
   ]
  },
  {
   "cell_type": "code",
   "execution_count": 43,
   "id": "33dcb89d-b823-4cd1-8f9a-722430fc3e35",
   "metadata": {
    "collapsed": true,
    "jupyter": {
     "outputs_hidden": true
    },
    "tags": []
   },
   "outputs": [
    {
     "name": "stdout",
     "output_type": "stream",
     "text": [
      "Number of locations D_1 travelled: 12\n",
      "Number of locations D_2 travelled: 15\n",
      "Number of locations D_3 travelled: 11\n",
      "Number of locations D_4 travelled: 15\n",
      "Number of locations D_5 travelled: 14\n",
      "Number of locations D_6 travelled: 14\n",
      "Number of locations D_7 travelled: 15\n",
      "Number of locations D_8 travelled: 13\n",
      "Number of locations D_9 travelled: 13\n",
      "Number of locations D_10 travelled: 12\n",
      "Number of locations D_11 travelled: 13\n",
      "Number of locations D_12 travelled: 12\n",
      "Number of locations D_13 travelled: 12\n",
      "Number of locations D_14 travelled: 11\n",
      "Number of locations D_15 travelled: 14\n",
      "Number of locations D_16 travelled: 11\n",
      "Number of locations D_17 travelled: 11\n",
      "Number of locations D_18 travelled: 10\n",
      "Number of locations D_19 travelled: 11\n",
      "Number of locations D_20 travelled: 10\n"
     ]
    }
   ],
   "source": [
    "import json\n",
    "\n",
    "with open(\"Food_delivery_simulator/Algorithm/data_interaction/driver_node_history.json\") as json_file:\n",
    "    driver_delivery_history = json.load(json_file)\n",
    "\n",
    "drivers = ['D_'+str(i) for i in range(1,21)]\n",
    "for d in drivers:\n",
    "    print(\"Number of locations \" + d + \" travelled:\", len(driver_delivery_history[d]))"
   ]
  },
  {
   "cell_type": "code",
   "execution_count": 45,
   "id": "106f6d1f-30c1-40a6-b775-5f875015d38a",
   "metadata": {},
   "outputs": [
    {
     "name": "stdout",
     "output_type": "stream",
     "text": [
      "4\n"
     ]
    }
   ],
   "source": [
    "L = [1, 1, 1, 2, 2, 3, 3, 4, 4, 4]\n",
    "\n",
    "n = 0\n",
    "count_visited_node = 0\n",
    "while n < len(L)-1:\n",
    "    if L[n] != L[n+1]:\n",
    "        count_visited_node += 1\n",
    "    n = n + 1\n",
    "count_visited_node += 1\n",
    "\n",
    "print(count_visited_node)"
   ]
  },
  {
   "cell_type": "code",
   "execution_count": 46,
   "id": "251aec36-0e2b-40dc-b895-8fc22c321d4c",
   "metadata": {},
   "outputs": [
    {
     "data": {
      "text/plain": [
       "0"
      ]
     },
     "execution_count": 46,
     "metadata": {},
     "output_type": "execute_result"
    }
   ],
   "source": [
    "import os\n",
    "\n",
    "os.path.getsize(\"Test.txt\")"
   ]
  },
  {
   "cell_type": "code",
   "execution_count": 53,
   "id": "5e58cf31-cce5-4314-a55c-3777828606ab",
   "metadata": {},
   "outputs": [],
   "source": [
    "def remove_adjacent(nums):\n",
    "  i = 1\n",
    "  while i < len(nums):    \n",
    "    if nums[i] == nums[i-1]:\n",
    "        nums.pop(i)\n",
    "        i -= 1  \n",
    "    i += 1\n",
    "  return nums\n",
    "\n",
    "L = [1, 1, 1, 2, 2, 3, 3, 4, 4, 4]"
   ]
  },
  {
   "cell_type": "code",
   "execution_count": 54,
   "id": "dd34b114-3ee9-4aa7-baba-103a1c4943b8",
   "metadata": {},
   "outputs": [
    {
     "data": {
      "text/plain": [
       "[1, 2, 3, 4]"
      ]
     },
     "execution_count": 54,
     "metadata": {},
     "output_type": "execute_result"
    }
   ],
   "source": [
    "remove_adjacent(L)"
   ]
  },
  {
   "cell_type": "code",
   "execution_count": 29,
   "id": "666dc0b1-1160-4bf1-a2f1-06190496c675",
   "metadata": {},
   "outputs": [],
   "source": [
    "\"\"\"Simple Pickup Delivery Problem (PDP).\"\"\"\n",
    "import numpy as np\n",
    "from ortools.constraint_solver import routing_enums_pb2\n",
    "from ortools.constraint_solver import pywrapcp\n",
    "\n",
    "\n",
    "def create_data_model():\n",
    "    \"\"\"Stores the data for the problem.\"\"\"\n",
    "    data = {}\n",
    "    data['distance_matrix'] = np.array([\n",
    "        [\n",
    "            0, 548, 776, 696, 582, 274, 502, 194, 308, 194, 536, 502, 388, 354,\n",
    "            468, 776, 662\n",
    "        ],\n",
    "        [\n",
    "            548, 0, 684, 308, 194, 502, 730, 354, 696, 742, 1084, 594, 480, 674,\n",
    "            1016, 868, 1210\n",
    "        ],\n",
    "        [\n",
    "            776, 684, 0, 992, 878, 502, 274, 810, 468, 742, 400, 1278, 1164,\n",
    "            1130, 788, 1552, 754\n",
    "        ],\n",
    "        [\n",
    "            696, 308, 992, 0, 114, 650, 878, 502, 844, 890, 1232, 514, 628, 822,\n",
    "            1164, 560, 1358\n",
    "        ],\n",
    "        [\n",
    "            582, 194, 878, 114, 0, 536, 764, 388, 730, 776, 1118, 400, 514, 708,\n",
    "            1050, 674, 1244\n",
    "        ],\n",
    "        [\n",
    "            274, 502, 502, 650, 536, 0, 228, 308, 194, 240, 582, 776, 662, 628,\n",
    "            514, 1050, 708\n",
    "        ],\n",
    "        [\n",
    "            502, 730, 274, 878, 764, 228, 0, 536, 194, 468, 354, 1004, 890, 856,\n",
    "            514, 1278, 480\n",
    "        ],\n",
    "        [\n",
    "            194, 354, 810, 502, 388, 308, 536, 0, 342, 388, 730, 468, 354, 320,\n",
    "            662, 742, 856\n",
    "        ],\n",
    "        [\n",
    "            308, 696, 468, 844, 730, 194, 194, 342, 0, 274, 388, 810, 696, 662,\n",
    "            320, 1084, 514\n",
    "        ],\n",
    "        [\n",
    "            194, 742, 742, 890, 776, 240, 468, 388, 274, 0, 342, 536, 422, 388,\n",
    "            274, 810, 468\n",
    "        ],\n",
    "        [\n",
    "            536, 1084, 400, 1232, 1118, 582, 354, 730, 388, 342, 0, 878, 764,\n",
    "            730, 388, 1152, 354\n",
    "        ],\n",
    "        [\n",
    "            502, 594, 1278, 514, 400, 776, 1004, 468, 810, 536, 878, 0, 114,\n",
    "            308, 650, 274, 844\n",
    "        ],\n",
    "        [\n",
    "            388, 480, 1164, 628, 514, 662, 890, 354, 696, 422, 764, 114, 0, 194,\n",
    "            536, 388, 730\n",
    "        ],\n",
    "        [\n",
    "            354, 674, 1130, 822, 708, 628, 856, 320, 662, 388, 730, 308, 194, 0,\n",
    "            342, 422, 536\n",
    "        ],\n",
    "        [\n",
    "            468, 1016, 788, 1164, 1050, 514, 514, 662, 320, 274, 388, 650, 536,\n",
    "            342, 0, 764, 194\n",
    "        ],\n",
    "        [\n",
    "            776, 868, 1552, 560, 674, 1050, 1278, 742, 1084, 810, 1152, 274,\n",
    "            388, 422, 764, 0, 798\n",
    "        ],\n",
    "        [\n",
    "            662, 1210, 754, 1358, 1244, 708, 480, 856, 514, 468, 354, 844, 730,\n",
    "            536, 194, 798, 0\n",
    "        ],\n",
    "    ])\n",
    "    data['pickups_deliveries'] = np.array([\n",
    "        [1, 6],\n",
    "        [2, 10],\n",
    "        [4, 3],\n",
    "        [5, 9],\n",
    "        [7, 8],\n",
    "        [15, 11],\n",
    "        [13, 12],\n",
    "        [16, 14],\n",
    "    ])\n",
    "    data['num_vehicles'] = 1\n",
    "    data['depot'] = 0\n",
    "    return data\n",
    "\n",
    "\n",
    "def print_solution(data, manager, routing, solution):\n",
    "    \"\"\"Prints solution on console.\"\"\"\n",
    "    print(f'Objective: {solution.ObjectiveValue()}')\n",
    "    total_distance = 0\n",
    "    for vehicle_id in range(data['num_vehicles']):\n",
    "        index = routing.Start(vehicle_id)\n",
    "        plan_output = 'Route for vehicle {}:\\n'.format(vehicle_id)\n",
    "        route_distance = 0\n",
    "        while not routing.IsEnd(index):\n",
    "            plan_output += ' {} -> '.format(manager.IndexToNode(index))\n",
    "            previous_index = index\n",
    "            index = solution.Value(routing.NextVar(index))\n",
    "            route_distance += routing.GetArcCostForVehicle(\n",
    "                previous_index, index, vehicle_id)\n",
    "        plan_output += '{}\\n'.format(manager.IndexToNode(index))\n",
    "        plan_output += 'Distance of the route: {}m\\n'.format(route_distance)\n",
    "        print(plan_output)\n",
    "        total_distance += route_distance\n",
    "    print('Total Distance of all routes: {}m'.format(total_distance))\n",
    "\n",
    "\n",
    "def get_routes(solution, routing, manager):\n",
    "    \"\"\"Get vehicle routes from a solution and store them in an array.\"\"\"\n",
    "    # Get vehicle routes and store them in a two dimensional array whose\n",
    "    # i,j entry is the jth location visited by vehicle i along its route.\n",
    "    routes = []\n",
    "    for route_nbr in range(routing.vehicles()):\n",
    "        index = routing.Start(route_nbr)\n",
    "        route = [manager.IndexToNode(index)]\n",
    "        while not routing.IsEnd(index):\n",
    "              index = solution.Value(routing.NextVar(index))\n",
    "              route.append(manager.IndexToNode(index))\n",
    "    routes.append(route)\n",
    "    return routes\n",
    "\n",
    "\n",
    "def main():\n",
    "    \"\"\"Entry point of the program.\"\"\"\n",
    "    # Instantiate the data problem.\n",
    "    data = create_data_model()\n",
    "\n",
    "    # Create the routing index manager.\n",
    "    manager = pywrapcp.RoutingIndexManager(len(data['distance_matrix']),\n",
    "                                           data['num_vehicles'], data['depot'])\n",
    "\n",
    "    # Create Routing Model.\n",
    "    routing = pywrapcp.RoutingModel(manager)\n",
    "\n",
    "    # Define cost of each arc.\n",
    "    def distance_callback(from_index, to_index):\n",
    "        \"\"\"Returns the manhattan distance between the two nodes.\"\"\"\n",
    "        # Convert from routing variable Index to distance matrix NodeIndex.\n",
    "        from_node = manager.IndexToNode(from_index)\n",
    "        to_node = manager.IndexToNode(to_index)\n",
    "        return data['distance_matrix'][from_node][to_node]\n",
    "\n",
    "    transit_callback_index = routing.RegisterTransitCallback(distance_callback)\n",
    "    routing.SetArcCostEvaluatorOfAllVehicles(transit_callback_index)\n",
    "\n",
    "    # Add Distance constraint.\n",
    "    dimension_name = 'Distance'\n",
    "    routing.AddDimension(\n",
    "        transit_callback_index,\n",
    "        0,  # no slack\n",
    "        10000000,  # vehicle maximum travel distance\n",
    "        True,  # start cumul to zero\n",
    "        dimension_name)\n",
    "    distance_dimension = routing.GetDimensionOrDie(dimension_name)\n",
    "    distance_dimension.SetGlobalSpanCostCoefficient(100)\n",
    "\n",
    "    # Define Transportation Requests.\n",
    "    for request in data['pickups_deliveries']:\n",
    "        pickup_index = manager.NodeToIndex(request[0])\n",
    "        delivery_index = manager.NodeToIndex(request[1])\n",
    "        routing.AddPickupAndDelivery(pickup_index, delivery_index)\n",
    "        routing.solver().Add(\n",
    "            routing.VehicleVar(pickup_index) == routing.VehicleVar(\n",
    "                delivery_index))\n",
    "        routing.solver().Add(\n",
    "            distance_dimension.CumulVar(pickup_index) <=\n",
    "            distance_dimension.CumulVar(delivery_index))\n",
    "\n",
    "    # Setting first solution heuristic.\n",
    "    search_parameters = pywrapcp.DefaultRoutingSearchParameters()\n",
    "    search_parameters.first_solution_strategy = (\n",
    "        routing_enums_pb2.FirstSolutionStrategy.PARALLEL_CHEAPEST_INSERTION)\n",
    "\n",
    "    # Solve the problem.\n",
    "    solution = routing.SolveWithParameters(search_parameters)\n",
    "\n",
    "    # Print solution on console.\n",
    "    routes = get_routes(solution, routing, manager)\n",
    "    if solution:\n",
    "        print(\"Route\", 0, routes[0])\n",
    "        print_solution(data, manager, routing, solution)\n",
    "    \n",
    "    return routes"
   ]
  },
  {
   "cell_type": "code",
   "execution_count": 30,
   "id": "ce6a214a-3700-49b0-acd6-a7a3f7885153",
   "metadata": {},
   "outputs": [
    {
     "name": "stdout",
     "output_type": "stream",
     "text": [
      "Route 0 [0, 13, 15, 11, 12, 1, 4, 3, 7, 5, 8, 6, 2, 10, 16, 14, 9, 0]\n",
      "Objective: 488840\n",
      "Route for vehicle 0:\n",
      " 0 ->  13 ->  15 ->  11 ->  12 ->  1 ->  4 ->  3 ->  7 ->  5 ->  8 ->  6 ->  2 ->  10 ->  16 ->  14 ->  9 -> 0\n",
      "Distance of the route: 4840m\n",
      "\n",
      "Total Distance of all routes: 4840m\n"
     ]
    },
    {
     "data": {
      "text/plain": [
       "[[0, 13, 15, 11, 12, 1, 4, 3, 7, 5, 8, 6, 2, 10, 16, 14, 9, 0]]"
      ]
     },
     "execution_count": 30,
     "metadata": {},
     "output_type": "execute_result"
    }
   ],
   "source": [
    "main()"
   ]
  },
  {
   "cell_type": "code",
   "execution_count": 22,
   "id": "8c8c4ffb-a2f4-4135-ac90-c51af9c025b9",
   "metadata": {},
   "outputs": [
    {
     "data": {
      "text/plain": [
       "array([[0., 0.],\n",
       "       [0., 0.]])"
      ]
     },
     "execution_count": 22,
     "metadata": {},
     "output_type": "execute_result"
    }
   ],
   "source": [
    "import numpy as np\n",
    "np.zeros(shape=(2, 2))"
   ]
  },
  {
   "cell_type": "code",
   "execution_count": 23,
   "id": "2d0fc080-ec6f-462c-b36b-ae85392577f8",
   "metadata": {},
   "outputs": [
    {
     "data": {
      "text/plain": [
       "array([[0, 0],\n",
       "       [0, 0]])"
      ]
     },
     "execution_count": 23,
     "metadata": {},
     "output_type": "execute_result"
    }
   ],
   "source": [
    "np.array([[0,0], [0,0]])"
   ]
  },
  {
   "cell_type": "code",
   "execution_count": 28,
   "id": "a7aa0215-b888-49ee-8fd2-8f2479820496",
   "metadata": {},
   "outputs": [
    {
     "data": {
      "text/plain": [
       "[['a', 'b'], ['c', 'd']]"
      ]
     },
     "execution_count": 28,
     "metadata": {},
     "output_type": "execute_result"
    }
   ],
   "source": [
    "L = ['a', 'a', 'b', 'c', 'd']\n",
    "pairs = []\n",
    "\n",
    "i = 1\n",
    "while i < len(L):\n",
    "    pairs.append([L[i], L[i+1]])\n",
    "    i += 2\n",
    "\n",
    "pairs"
   ]
  },
  {
   "cell_type": "code",
   "execution_count": 13,
   "id": "a90a5dc7-230b-4866-94b2-cd288066435d",
   "metadata": {},
   "outputs": [],
   "source": [
    "A = [1, 2, 3, 4, 5, 6]"
   ]
  },
  {
   "cell_type": "code",
   "execution_count": 14,
   "id": "f3b1629d-8e76-433f-af40-ee87c17bd1f3",
   "metadata": {},
   "outputs": [
    {
     "data": {
      "text/plain": [
       "6"
      ]
     },
     "execution_count": 14,
     "metadata": {},
     "output_type": "execute_result"
    }
   ],
   "source": [
    "len(A)"
   ]
  },
  {
   "cell_type": "code",
   "execution_count": 15,
   "id": "423939af-9820-49f3-a0bd-743e86f29c34",
   "metadata": {},
   "outputs": [
    {
     "data": {
      "text/plain": [
       "[1, 2, 3, 4, 5, 20, 6]"
      ]
     },
     "execution_count": 15,
     "metadata": {},
     "output_type": "execute_result"
    }
   ],
   "source": [
    "A.insert(5, 20)\n",
    "A"
   ]
  },
  {
   "cell_type": "code",
   "execution_count": 5,
   "id": "511b69a7-eee9-4908-b662-7267d2d44488",
   "metadata": {},
   "outputs": [
    {
     "name": "stdout",
     "output_type": "stream",
     "text": [
      "1\n",
      "6\n",
      "10\n"
     ]
    }
   ],
   "source": [
    "import random\n",
    "\n",
    "random.seed(0)\n",
    "print(random.randint(0, 1))\n",
    "print(random.randint(0, 10))\n",
    "print(random.randint(10,20))"
   ]
  },
  {
   "cell_type": "code",
   "execution_count": 21,
   "id": "fd857b32-2c11-4331-b4c4-3cc4ceaeca0c",
   "metadata": {},
   "outputs": [],
   "source": [
    "A = [1, 2, 3]\n",
    "A.insert(0, 5)"
   ]
  },
  {
   "cell_type": "code",
   "execution_count": 22,
   "id": "6b7eb737-26f1-403c-a5b7-0d5ea9e5fe41",
   "metadata": {},
   "outputs": [
    {
     "data": {
      "text/plain": [
       "[5, 1, 2, 3]"
      ]
     },
     "execution_count": 22,
     "metadata": {},
     "output_type": "execute_result"
    }
   ],
   "source": [
    "A"
   ]
  },
  {
   "cell_type": "code",
   "execution_count": 23,
   "id": "bad9b847-224e-46b3-8f22-9f0bc12e107c",
   "metadata": {},
   "outputs": [
    {
     "data": {
      "text/plain": [
       "list"
      ]
     },
     "execution_count": 23,
     "metadata": {},
     "output_type": "execute_result"
    }
   ],
   "source": [
    "type([])"
   ]
  },
  {
   "cell_type": "code",
   "execution_count": 25,
   "id": "8ff409dc-552b-4e3b-a15b-fe70db09872f",
   "metadata": {},
   "outputs": [
    {
     "data": {
      "text/plain": [
       "23.05"
      ]
     },
     "execution_count": 25,
     "metadata": {},
     "output_type": "execute_result"
    }
   ],
   "source": [
    "1383 / 60"
   ]
  },
  {
   "cell_type": "code",
   "execution_count": 3,
   "id": "f6d29547-d2e8-4cff-bd66-c97c779142d0",
   "metadata": {},
   "outputs": [
    {
     "data": {
      "text/plain": [
       "'/Order_update_history/Instance'"
      ]
     },
     "execution_count": 3,
     "metadata": {},
     "output_type": "execute_result"
    }
   ],
   "source": [
    "order_update_history = f\"/Order_update_history/Instance\"\n",
    "order_update_history"
   ]
  },
  {
   "cell_type": "code",
   "execution_count": null,
   "id": "723580db-9955-48e1-b5e5-251942bd63d1",
   "metadata": {},
   "outputs": [],
   "source": []
  }
 ],
 "metadata": {
  "kernelspec": {
   "display_name": "Python 3",
   "language": "python",
   "name": "python3"
  },
  "language_info": {
   "codemirror_mode": {
    "name": "ipython",
    "version": 3
   },
   "file_extension": ".py",
   "mimetype": "text/x-python",
   "name": "python",
   "nbconvert_exporter": "python",
   "pygments_lexer": "ipython3",
   "version": "3.7.10"
  }
 },
 "nbformat": 4,
 "nbformat_minor": 5
}
